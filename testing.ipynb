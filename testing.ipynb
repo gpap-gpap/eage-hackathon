{
 "cells": [
  {
   "cell_type": "code",
   "execution_count": 342,
   "metadata": {},
   "outputs": [
    {
     "name": "stdout",
     "output_type": "stream",
     "text": [
      "The autoreload extension is already loaded. To reload it, use:\n",
      "  %reload_ext autoreload\n"
     ]
    },
    {
     "name": "stderr",
     "output_type": "stream",
     "text": [
      "[nltk_data] Downloading package stopwords to\n",
      "[nltk_data]     /Users/gpapageo/nltk_data...\n",
      "[nltk_data]   Package stopwords is already up-to-date!\n",
      "[nltk_data] Downloading package punkt to /Users/gpapageo/nltk_data...\n",
      "[nltk_data]   Package punkt is already up-to-date!\n"
     ]
    }
   ],
   "source": [
    "%load_ext autoreload\n",
    "%autoreload 2\n",
    "import pandas as pd\n",
    "import numpy as np"
   ]
  },
  {
   "cell_type": "code",
   "execution_count": 344,
   "metadata": {},
   "outputs": [],
   "source": [
    "import basic_functions as bf\n",
    "import query_scholar as qs"
   ]
  },
  {
   "cell_type": "code",
   "execution_count": 353,
   "metadata": {},
   "outputs": [
    {
     "data": {
      "text/plain": [
       "[' This study used rock physics analysis, seismic analysis, and synthetic seismic calculation to determine the feasibility of using time-lapse seismic data to monitor carbon capture and storage (CCS) in a depleted gas reservoir in the offshore area of Malaysia. The results showed that the amplitude change in the depleted reservoir zone was relatively small, less than 3%, while the amplitude change in the aquifer or saline zone was over 10%. The study concluded that time-lapse seismic may have limitations for monitoring CO2 injection, but is still an essential part of CCS monitoring.',\n",
       " ' This paper examines the impact of gauge length selection on surface distributed acoustic sensing (S-DAS) surveys. A field trial was conducted to acquire a unique dataset and analysis of the GL effect was performed. Results show that increasing the GL does not improve the signal-to-noise ratio (SNR), and it is recommended that the GL and trace spacing should be chosen based on the Nyquist criterion and data size considerations.',\n",
       " ' This study is a collaboration between the GSC and PTRC to monitor a CO2 reservoir at the Aquistore CCS site using a permanent seismic source (ACROSS) and DAS. The study found that the seismic monitoring system was able to capture time-lapse signal responses at the target reservoir depth, although the location was shifted outward from the source. Further modeling studies are needed to understand the validity of the seismic layout and evaluate the result of the time-lapse analysis.',\n",
       " ' This paper discusses the use of Distributed Acoustic Sensing (DAS) in a Vertical Seismic Profile (VSP) setting to monitor CO2 storage reservoirs in a cost-effective and accurate manner. It covers the use of Deep Neural Network de-noise workflow, Variable-aperture centre Kirchhoff imaging, Reverse Time Migration of Multiples, least-squares wave-equation multiple migration, and 4D modelling to detect and assess the effects of CO2 injection in a reservoir. It also covers the processing and imaging of a DAS VSP pilot survey at the Culzean Field, and the use of time-lapse walkaway DAS-VSP data to monitor dynamic changes in reservoir production.',\n",
       " ' This paper discusses the use of Distributed Acoustic Sensing (DAS) for Vertical Seismic Profiling (VSP) imaging in deep water, field trials in the North Sea, processing and imaging of a DAS VSP pilot survey in the Culzean Field, UKCS, characterization and monitoring of a CO2 shallow release site, and evaluating 3D and 4D DAS VSP image quality of subsea carbon storage. It also covers time-lapse attenuation variations during CO2 injection using DAS VSP data from the CaMI Field Research Station in Alberta, Canada. The authors concluded that DAS-VSP could provide valuable additional information for Carbon Capture and Storage (CCS) projects with limited seismic information.',\n",
       " ' This paper investigates the use of distributed acoustic sensing (DAS) technology for high resolution fracture imaging on a laboratory scale. Results showed a distinct first arrival and complex interference of reflections in the strain data recorded from the marble sample. The paper aims to improve the quantification of the fault/fracture responses using fibre optical data. This research is part of the SHARP Storage research program and includes studies on smooth inversion of VSP traveltime data, 3D deep geothermal reservoir imaging with wireline distributed acoustic sensing, high-resolution 3D seismic imaging and velocity model building, real-time low noise distributed acoustic sensing, and evaluating 3D and 4D DAS VSP image quality of subsea carbon storage.',\n",
       " ' This paper evaluates the effectiveness of 4D seismic monitoring for Carbon Capture and Storage (CCS) in abandoned North Sea reservoirs. It uses simulations, fluid interactions, and well log data to generate synthetic seismic traces and analyze the 4D seismic response. Results show that the top of Utsira formation in Sleipner field is detectable using virtually any seismic survey, while Goldeneye and Hewett fields require dedicated seismic surveys with excellent repeatability.',\n",
       " ' This paper discusses the use of Distributed Acoustic Sensing (DAS) for high resolution near surface characterization. It describes the design and acquisition of a large-scale 3D land field test and processing of the S-DAS data. Dispersion curves are automatically picked in the frequency-wavenumber space for each station along the cable, and the shear wave velocity depth profile is computed as a result of their inversion. The comparison of the velocity models from the different acquired components, both seismic and non-seismic, provides the best available framework to understand the complexity of the near surface.',\n",
       " ' This study conducted by Ikon for the UK North Sea Transition Authority (NSTA) examined the 4D seismic response to CO2 injection in five different carbon storage reservoirs. Results showed that the amplitude of the seismic response is controlled by a combination of the stiffness of the dry rock frame and the porosity in the sandstone. It was also found that higher specification seismic, improved repeatability, higher CO2 concentrations, greater time separation between surveys, or not using seismic monitoring as part of the MMV strategy may be needed to detect a signal when CO2 is injected into a pre-existing depleted methane field. Results of this rock-physics study can be used as a basis for quantitative interpretation of 4D seismic data in CO2 storage projects.',\n",
       " ' This paper examines the use of Distributed Acoustic Sensing (DAS) for various scientific applications, such as reservoir monitoring, seismic monitoring, and ground motion response. It reviews the state-of-the-art of DAS and provides an overview of the optimal design algorithm for distributed fibre-optic sensing. It also discusses the instrument response of fiber-optic DAS arrays, waveform inversion based on strain rate, and the use of DAS for the Otway Project example. Finally, it presents a case study of the ground motion response to an ML 4.3 earthquake using co-located DAS and seismometer arrays.']"
      ]
     },
     "execution_count": 353,
     "metadata": {},
     "output_type": "execute_result"
    }
   ],
   "source": [
    "# return a vector from the embeddings database\n",
    "bf.return_vector(id = 123)\n",
    "\n",
    "# return an averaged vector from the embeddings database\n",
    "bf.average_vectors(ids = [123, 456])\n",
    "\n",
    "# return a list of n ids from a list of ids corresponding to pdfs\n",
    "test = bf.db_search(ids = [123, 456], n=10)\n",
    "\n",
    "# parse data returbed from the embeddings database search\n",
    "cont, met = bf.parse_db_result(results = test)\n"
   ]
  },
  {
   "cell_type": "code",
   "execution_count": 355,
   "metadata": {},
   "outputs": [
    {
     "data": {
      "text/plain": [
       "FreqDist({'102pdf': 1})"
      ]
     },
     "execution_count": 355,
     "metadata": {},
     "output_type": "execute_result"
    }
   ],
   "source": [
    "qs.word_frequency(contents )"
   ]
  }
 ],
 "metadata": {
  "kernelspec": {
   "display_name": "eage-hackathon-streamlit",
   "language": "python",
   "name": "python3"
  },
  "language_info": {
   "codemirror_mode": {
    "name": "ipython",
    "version": 3
   },
   "file_extension": ".py",
   "mimetype": "text/x-python",
   "name": "python",
   "nbconvert_exporter": "python",
   "pygments_lexer": "ipython3",
   "version": "3.10.11"
  },
  "orig_nbformat": 4
 },
 "nbformat": 4,
 "nbformat_minor": 2
}
